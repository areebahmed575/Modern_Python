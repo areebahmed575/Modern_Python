{
 "cells": [
  {
   "cell_type": "code",
   "execution_count": 3,
   "metadata": {},
   "outputs": [
    {
     "name": "stdout",
     "output_type": "stream",
     "text": [
      "['clear', 'copy', 'fromkeys', 'get', 'items', 'keys', 'pop', 'popitem', 'setdefault', 'update', 'values']\n"
     ]
    }
   ],
   "source": [
    "from typing import Dict, Union, Optional\n",
    "import pprint\n",
    "\n",
    "\n",
    "Key = Union[int,str] # create custom type\n",
    "Value = Union[int, str, list, dict, tuple, set]\n",
    "\n",
    "data : Dict[Key,Value] = {\n",
    "                        \"fname\":\"Muhammad Aslam\",\n",
    "                        \"name\":\"Muhammad Qasim\",\n",
    "                        \"education\": \"MSDS\"}\n",
    "\n",
    "methods : list[str] = [m for m in dir(data) if \"__\" not in m]\n",
    "print(methods)"
   ]
  },
  {
   "cell_type": "code",
   "execution_count": 5,
   "metadata": {},
   "outputs": [
    {
     "name": "stdout",
     "output_type": "stream",
     "text": [
      "Before {'fname': 'Muhammad Aslam', 'name': 'Muhammad Qasim', 'education': 'MSDS'}\n",
      "After {}\n"
     ]
    }
   ],
   "source": [
    "from typing import Dict, Union, Optional\n",
    "import pprint\n",
    "\n",
    "\n",
    "Key = Union[int,str] # create custom type\n",
    "Value = Union[int, str, list, dict, tuple, set]\n",
    "\n",
    "data : Dict[Key,Value] = {\n",
    "                        \"fname\":\"Muhammad Aslam\",\n",
    "                        \"name\":\"Muhammad Qasim\",\n",
    "                        \"education\": \"MSDS\"}\n",
    "\n",
    "\n",
    "print(\"Before\", data)\n",
    "data.clear()\n",
    "print(\"After\",data)"
   ]
  },
  {
   "cell_type": "code",
   "execution_count": 6,
   "metadata": {},
   "outputs": [
    {
     "name": "stdout",
     "output_type": "stream",
     "text": [
      "Before {'fname': 'Muhammad Aslam', 'name': 'Muhammad Qasim', 'education': 'MSDS'}\n"
     ]
    },
    {
     "ename": "NameError",
     "evalue": "name 'data' is not defined",
     "output_type": "error",
     "traceback": [
      "\u001b[1;31m---------------------------------------------------------------------------\u001b[0m",
      "\u001b[1;31mNameError\u001b[0m                                 Traceback (most recent call last)",
      "\u001b[1;32mc:\\Users\\DELL\\Documents\\blockchain\\pythonClass1\\class7(dictionary-methods)\\class7.ipynb Cell 3\u001b[0m line \u001b[0;36m1\n\u001b[0;32m     <a href='vscode-notebook-cell:/c%3A/Users/DELL/Documents/blockchain/pythonClass1/class7%28dictionary-methods%29/class7.ipynb#W2sZmlsZQ%3D%3D?line=13'>14</a>\u001b[0m \u001b[39mprint\u001b[39m(\u001b[39m\"\u001b[39m\u001b[39mBefore\u001b[39m\u001b[39m\"\u001b[39m, data)\n\u001b[0;32m     <a href='vscode-notebook-cell:/c%3A/Users/DELL/Documents/blockchain/pythonClass1/class7%28dictionary-methods%29/class7.ipynb#W2sZmlsZQ%3D%3D?line=14'>15</a>\u001b[0m \u001b[39mdel\u001b[39;00m data\n\u001b[1;32m---> <a href='vscode-notebook-cell:/c%3A/Users/DELL/Documents/blockchain/pythonClass1/class7%28dictionary-methods%29/class7.ipynb#W2sZmlsZQ%3D%3D?line=15'>16</a>\u001b[0m \u001b[39mprint\u001b[39m(\u001b[39m\"\u001b[39m\u001b[39mAfter\u001b[39m\u001b[39m\"\u001b[39m,data)\n",
      "\u001b[1;31mNameError\u001b[0m: name 'data' is not defined"
     ]
    }
   ],
   "source": [
    "from typing import Dict, Union, Optional\n",
    "import pprint\n",
    "\n",
    "\n",
    "Key = Union[int,str] # create custom type\n",
    "Value = Union[int, str, list, dict, tuple, set]\n",
    "\n",
    "data : Dict[Key,Value] = {\n",
    "                        \"fname\":\"Muhammad Aslam\",\n",
    "                        \"name\":\"Muhammad Qasim\",\n",
    "                        \"education\": \"MSDS\"}\n",
    "\n",
    "\n",
    "print(\"Before\", data)\n",
    "del data\n",
    "print(\"After\",data)"
   ]
  },
  {
   "cell_type": "code",
   "execution_count": 1,
   "metadata": {},
   "outputs": [
    {
     "name": "stdout",
     "output_type": "stream",
     "text": [
      "Before {'fname': 'Muhammad Aslam', 'name': 'Muhammad Qasim', 'education': 'MSDS'}\n",
      "After {'fname': 'Muhammad Aslam', 'education': 'MSDS'}\n"
     ]
    }
   ],
   "source": [
    "from typing import Dict, Union, Optional\n",
    "import pprint\n",
    "\n",
    "\n",
    "Key = Union[int,str] # create custom type\n",
    "Value = Union[int, str, list, dict, tuple, set]\n",
    "\n",
    "data : Dict[Key,Value] = {\n",
    "                        \"fname\":\"Muhammad Aslam\",\n",
    "                        \"name\":\"Muhammad Qasim\",\n",
    "                        \"education\": \"MSDS\"}\n",
    "\n",
    "\n",
    "print(\"Before\", data)\n",
    "data.pop(\"name\")\n",
    "\n",
    "print(\"After\",data)"
   ]
  },
  {
   "cell_type": "code",
   "execution_count": 8,
   "metadata": {},
   "outputs": [
    {
     "name": "stdout",
     "output_type": "stream",
     "text": [
      "Before {'fname': 'Muhammad Aslam', 'name': 'Muhammad Qasim', 'education': 'MSDS'}\n",
      "After {'fname': 'Muhammad Aslam', 'name': 'Muhammad Qasim'}\n"
     ]
    }
   ],
   "source": [
    "from typing import Dict, Union, Optional\n",
    "import pprint\n",
    "\n",
    "\n",
    "Key = Union[int,str] # create custom type\n",
    "Value = Union[int, str, list, dict, tuple, set]\n",
    "\n",
    "data : Dict[Key,Value] = {\n",
    "                        \"fname\":\"Muhammad Aslam\",\n",
    "                        \"name\":\"Muhammad Qasim\",\n",
    "                        \"education\": \"MSDS\"}\n",
    "\n",
    "\n",
    "print(\"Before\", data)\n",
    "data.popitem()#remove last item\n",
    "print(\"After\",data)"
   ]
  },
  {
   "cell_type": "code",
   "execution_count": 12,
   "metadata": {},
   "outputs": [
    {
     "name": "stdout",
     "output_type": "stream",
     "text": [
      "Before {'fname': 'Muhammad Aslam', 'name': 'Muhammad Qasim', 'education': 'MSDS'}\n",
      "NA\n",
      "After {'fname': 'Muhammad Aslam', 'name': 'Muhammad Qasim', 'education': 'MSDS'}\n"
     ]
    }
   ],
   "source": [
    "from typing import Dict, Union, Optional\n",
    "import pprint\n",
    "\n",
    "\n",
    "Key = Union[int,str] # create custom type\n",
    "Value = Union[int, str, list, dict, tuple, set]\n",
    "\n",
    "data : Dict[Key,Value] = {\n",
    "                        \"fname\":\"Muhammad Aslam\",\n",
    "                        \"name\":\"Muhammad Qasim\",\n",
    "                        \"education\": \"MSDS\"}\n",
    "\n",
    "\n",
    "print(\"Before\", data)\n",
    "a :str = data.get(\"Pakistan\",\"NA\")\n",
    "print(a)\n",
    "print(\"After\",data)"
   ]
  },
  {
   "cell_type": "code",
   "execution_count": 14,
   "metadata": {},
   "outputs": [
    {
     "name": "stdout",
     "output_type": "stream",
     "text": [
      "Before {'fname': 'Muhammad Aslam', 'name': 'Muhammad Qasim', 'education': 'MSDS'}\n",
      "After {'fname': 'Muhammad Aslam', 'name': 'Muhammad Qasim', 'education': 'MSDS', 'Pakistan': None}\n"
     ]
    }
   ],
   "source": [
    "from typing import Dict, Union, Optional\n",
    "import pprint\n",
    "\n",
    "\n",
    "Key = Union[int,str] # create custom type\n",
    "Value = Union[int, str, list, dict, tuple, set]\n",
    "\n",
    "data : Dict[Key,Value] = {\n",
    "                        \"fname\":\"Muhammad Aslam\",\n",
    "                        \"name\":\"Muhammad Qasim\",\n",
    "                        \"education\": \"MSDS\"}\n",
    "\n",
    "\n",
    "print(\"Before\", data)\n",
    "data.setdefault(\"Pakistan\")\n",
    "print(\"After\",data)"
   ]
  },
  {
   "cell_type": "code",
   "execution_count": 15,
   "metadata": {},
   "outputs": [
    {
     "name": "stdout",
     "output_type": "stream",
     "text": [
      "Before {'fname': 'Muhammad Aslam', 'name': 'Muhammad Qasim', 'education': 'MSDS'}\n",
      "After {'fname': 'Muhammad Aslam', 'name': 'Muhammad Qasim', 'education': 'MSDS', 'Pakistan': 'Hello'}\n"
     ]
    }
   ],
   "source": [
    "from typing import Dict, Union, Optional\n",
    "import pprint\n",
    "\n",
    "\n",
    "Key = Union[int,str] # create custom type\n",
    "Value = Union[int, str, list, dict, tuple, set]\n",
    "\n",
    "data : Dict[Key,Value] = {\n",
    "                        \"fname\":\"Muhammad Aslam\",\n",
    "                        \"name\":\"Muhammad Qasim\",\n",
    "                        \"education\": \"MSDS\"}\n",
    "\n",
    "\n",
    "print(\"Before\", data)\n",
    "data.setdefault(\"Pakistan\",\"Hello\")\n",
    "print(\"After\",data)"
   ]
  },
  {
   "cell_type": "code",
   "execution_count": 18,
   "metadata": {},
   "outputs": [
    {
     "data": {
      "text/plain": [
       "{'fname': 'Muhammad Farooq',\n",
       " 'name': 'Areeb Ahmed',\n",
       " 'education': 'MSDS',\n",
       " 'age': 15}"
      ]
     },
     "execution_count": 18,
     "metadata": {},
     "output_type": "execute_result"
    }
   ],
   "source": [
    "from typing import Dict, Union, Optional\n",
    "import pprint\n",
    "\n",
    "\n",
    "Key = Union[int,str] # create custom type\n",
    "Value = Union[int, str, list, dict, tuple, set]\n",
    "\n",
    "data : Dict[Key,Value] = {\n",
    "                        \"fname\":\"Muhammad Farooq\",\n",
    "                        \"name\":\"Muhammad Qasim\",\n",
    "                        \"education\": \"MSDS\"}\n",
    "data1 : Dict[Key,Value] = {\n",
    "                        \"name\":\"Areeb Ahmed\",\n",
    "                         \"age\": 15 }\n",
    "data.update(data1)\n",
    "data"
   ]
  },
  {
   "cell_type": "code",
   "execution_count": 3,
   "metadata": {},
   "outputs": [
    {
     "data": {
      "text/html": [
       "<div>\n",
       "<style scoped>\n",
       "    .dataframe tbody tr th:only-of-type {\n",
       "        vertical-align: middle;\n",
       "    }\n",
       "\n",
       "    .dataframe tbody tr th {\n",
       "        vertical-align: top;\n",
       "    }\n",
       "\n",
       "    .dataframe thead th {\n",
       "        text-align: right;\n",
       "    }\n",
       "</style>\n",
       "<table border=\"1\" class=\"dataframe\">\n",
       "  <thead>\n",
       "    <tr style=\"text-align: right;\">\n",
       "      <th></th>\n",
       "      <th>roll_no</th>\n",
       "      <th>fname</th>\n",
       "      <th>education</th>\n",
       "    </tr>\n",
       "  </thead>\n",
       "  <tbody>\n",
       "    <tr>\n",
       "      <th>0</th>\n",
       "      <td>1</td>\n",
       "      <td>Areeb</td>\n",
       "      <td>SE</td>\n",
       "    </tr>\n",
       "    <tr>\n",
       "      <th>1</th>\n",
       "      <td>2</td>\n",
       "      <td>Ali</td>\n",
       "      <td>CS</td>\n",
       "    </tr>\n",
       "    <tr>\n",
       "      <th>2</th>\n",
       "      <td>3</td>\n",
       "      <td>Ahmed</td>\n",
       "      <td>CA</td>\n",
       "    </tr>\n",
       "  </tbody>\n",
       "</table>\n",
       "</div>"
      ],
      "text/plain": [
       "   roll_no  fname education\n",
       "0        1  Areeb        SE\n",
       "1        2    Ali        CS\n",
       "2        3  Ahmed        CA"
      ]
     },
     "execution_count": 3,
     "metadata": {},
     "output_type": "execute_result"
    }
   ],
   "source": [
    "import pandas as pd \n",
    "from typing import Any,Dict\n",
    "\n",
    "data : Dict[str,list[Any]] = {\n",
    "      \"roll_no\" : [1,2,3] ,\n",
    "      \"fname\" : [\"Areeb\",\"Ali\",\"Ahmed\"] ,\n",
    "      \"education\" : [\"SE\",\"CS\",\"CA\"]\n",
    "}\n",
    "\n",
    "df : pd.DataFrame = pd.DataFrame(data)\n",
    "df"
   ]
  },
  {
   "cell_type": "code",
   "execution_count": 19,
   "metadata": {},
   "outputs": [
    {
     "name": "stdout",
     "output_type": "stream",
     "text": [
      "Original position: 0\n",
      "New position: 3\n"
     ]
    }
   ],
   "source": [
    "alien_0 = {'x_position': 0, 'y_position': 25, 'speed': 'fast'}\n",
    "print(f\"Original position: {alien_0['x_position']}\")\n",
    "# Move the alien to the right.\n",
    "# Determine how far to move the alien based on its current speed. 1 \n",
    "\n",
    "# \n",
    "if alien_0['speed'] == 'slow':\n",
    "    x_increment = 1\n",
    "elif alien_0['speed'] == 'medium':\n",
    "    x_increment = 2\n",
    "else:\n",
    "    # This must be a fast alien.\n",
    "    x_increment = 3\n",
    "# The new position is the old position plus the increment. 2\n",
    "# alien_0['x_position'] = alien_0['x_position'] + x_increment\n",
    "alien_0['x_position'] +=  x_increment\n",
    "print(f\"New position: {alien_0['x_position']}\")"
   ]
  },
  {
   "cell_type": "code",
   "execution_count": 22,
   "metadata": {},
   "outputs": [
    {
     "name": "stdout",
     "output_type": "stream",
     "text": [
      "Sarah favourite language is Python \n"
     ]
    }
   ],
   "source": [
    "favorite_languages = {\n",
    "      'jen': 'python',\n",
    "      'sarah': 'c',\n",
    "      'edward': 'rust',\n",
    "      'phil': 'python',\n",
    "      }\n",
    "\n",
    "favrt = favorite_languages[\"jen\"].title()\n",
    "print(f\"Sarah favourite language is {favrt} \")\n",
    "\n"
   ]
  },
  {
   "cell_type": "code",
   "execution_count": 40,
   "metadata": {},
   "outputs": [
    {
     "name": "stdout",
     "output_type": "stream",
     "text": [
      "Hi Jen.\n",
      "Hi Sarah.\n",
      "sarah, I see you love c!\n",
      "Hi Edward.\n",
      "Hi Phil.\n",
      "phil, I see you love python!\n"
     ]
    }
   ],
   "source": [
    "favorite_languages = {\n",
    "      'jen': 'python',\n",
    "      'sarah': 'c',\n",
    "      'edward': 'rust',\n",
    "      'phil': 'python',\n",
    "      }\n",
    "\n",
    "friends = ['phil', 'sarah']\n",
    "\n",
    "for  i in favorite_languages.keys():\n",
    "    print(f\"Hi {i.title()}.\")\n",
    "    if i in friends:\n",
    "        favrt = favorite_languages[i]\n",
    "        print(f\"{i}, I see you love {favrt}!\")\n",
    "        \n",
    "  \n",
    "        \n",
    "\n",
    "      \n",
    "        "
   ]
  },
  {
   "cell_type": "code",
   "execution_count": 41,
   "metadata": {},
   "outputs": [
    {
     "name": "stdout",
     "output_type": "stream",
     "text": [
      "True\n",
      "dict_keys(['jen', 'sarah', 'edward', 'phil'])\n"
     ]
    }
   ],
   "source": [
    "print('erin' not in favorite_languages.keys())\n",
    "print(favorite_languages.keys())"
   ]
  },
  {
   "cell_type": "code",
   "execution_count": 42,
   "metadata": {},
   "outputs": [
    {
     "data": {
      "text/plain": [
       "True"
      ]
     },
     "execution_count": 42,
     "metadata": {},
     "output_type": "execute_result"
    }
   ],
   "source": [
    "\"Qasim\" in \"\"\"My Name is Muhammad Qasim, I'm working as Chief Data Scientist!\"\"\""
   ]
  },
  {
   "cell_type": "code",
   "execution_count": 43,
   "metadata": {},
   "outputs": [
    {
     "name": "stdout",
     "output_type": "stream",
     "text": [
      "{'color': 'green', 'points': 5}\n",
      "{'color': 'yellow', 'points': 10}\n",
      "{'color': 'red', 'points': 15}\n"
     ]
    }
   ],
   "source": [
    "alien_0: list[Key, Value] = {'color': 'green', 'points': 5}\n",
    "alien_1: list[Key, Value] = {'color': 'yellow', 'points': 10}\n",
    "alien_2: list[Key, Value] = {'color': 'red', 'points': 15}\n",
    "\n",
    "aliens:list[Dict[str,str]] = [alien_0, alien_1, alien_2]\n",
    "for alien in aliens:\n",
    "    print(alien)"
   ]
  },
  {
   "cell_type": "code",
   "execution_count": 52,
   "metadata": {},
   "outputs": [
    {
     "name": "stdout",
     "output_type": "stream",
     "text": [
      "[]\n",
      "[{'color': 'green', 'points': 5, 'speed': 'slow'},\n",
      " {'color': 'green', 'points': 5, 'speed': 'slow'},\n",
      " {'color': 'green', 'points': 5, 'speed': 'slow'},\n",
      " {'color': 'green', 'points': 5, 'speed': 'slow'},\n",
      " {'color': 'green', 'points': 5, 'speed': 'slow'}]\n"
     ]
    }
   ],
   "source": [
    "# Make an empty list for storing aliens.\n",
    "aliens : list[Dict[str,str]] = []\n",
    "import pprint\n",
    "print(aliens)\n",
    "# Make 30 green aliens.\n",
    "for alien_number in range(30):\n",
    "    new_alien :Dict[str,str] = {'color': 'green', 'points': 5, 'speed': 'slow'}\n",
    "    aliens.append(new_alien)\n",
    "pprint.pprint(aliens[:5])"
   ]
  },
  {
   "cell_type": "code",
   "execution_count": 51,
   "metadata": {},
   "outputs": [
    {
     "data": {
      "text/plain": [
       "[{'color': 'red', 'points': 6, 'speed': 'medium'},\n",
       " {'color': 'red', 'points': 6, 'speed': 'medium'},\n",
       " {'color': 'red', 'points': 6, 'speed': 'medium'},\n",
       " {'color': 'red', 'points': 6, 'speed': 'medium'},\n",
       " {'color': 'green', 'points': 5, 'speed': 'slow'},\n",
       " {'color': 'green', 'points': 5, 'speed': 'slow'},\n",
       " {'color': 'green', 'points': 5, 'speed': 'slow'},\n",
       " {'color': 'green', 'points': 5, 'speed': 'slow'},\n",
       " {'color': 'green', 'points': 5, 'speed': 'slow'},\n",
       " {'color': 'green', 'points': 5, 'speed': 'slow'}]"
      ]
     },
     "execution_count": 51,
     "metadata": {},
     "output_type": "execute_result"
    }
   ],
   "source": [
    "for i in aliens[:4]:\n",
    "    if  i[\"color\"] == \"green\":\n",
    "        i[\"color\"] = \"red\"\n",
    "        i[\"speed\"] = \"medium\"\n",
    "        i[\"points\"] = 6\n",
    "\n",
    "\n",
    "\n",
    "aliens[:10]         "
   ]
  },
  {
   "cell_type": "code",
   "execution_count": 53,
   "metadata": {},
   "outputs": [
    {
     "name": "stdout",
     "output_type": "stream",
     "text": [
      "{'fname': 'Muhammad Aslam', 'name': 'Muhammad Qasim', 'education': 'MSDS'}\n",
      "<class 'dict'>\n"
     ]
    }
   ],
   "source": [
    "Key = Union[int,str] # create custom type\n",
    "Value = Union[int, str, list, dict, tuple, set]\n",
    "\n",
    "data : Dict[Key,Value] = {\n",
    "                        \"fname\":\"Muhammad Aslam\",\n",
    "                        \"name\":\"Muhammad Qasim\",\n",
    "                        \"education\": \"MSDS\"}\n",
    "\n",
    "print(data)\n",
    "print(type(data))"
   ]
  },
  {
   "cell_type": "code",
   "execution_count": 3,
   "metadata": {},
   "outputs": [
    {
     "name": "stdout",
     "output_type": "stream",
     "text": [
      "<class 'str'>\n"
     ]
    },
    {
     "data": {
      "text/plain": [
       "'{\\n    \"fname\": \"Muhammad Aslam\",\\n    \"education\": \"MSDS\"\\n}'"
      ]
     },
     "metadata": {},
     "output_type": "display_data"
    },
    {
     "name": "stdout",
     "output_type": "stream",
     "text": [
      "{\n",
      "    \"fname\": \"Muhammad Aslam\",\n",
      "    \"education\": \"MSDS\"\n",
      "}\n"
     ]
    }
   ],
   "source": [
    "import json\n",
    "\n",
    "data1  = json.dumps(data, indent=4)\n",
    "\n",
    "print(type(data1))\n",
    "display(data1)\n",
    "print(data1)"
   ]
  }
 ],
 "metadata": {
  "kernelspec": {
   "display_name": "python12",
   "language": "python",
   "name": "python3"
  },
  "language_info": {
   "codemirror_mode": {
    "name": "ipython",
    "version": 3
   },
   "file_extension": ".py",
   "mimetype": "text/x-python",
   "name": "python",
   "nbconvert_exporter": "python",
   "pygments_lexer": "ipython3",
   "version": "3.12.0"
  }
 },
 "nbformat": 4,
 "nbformat_minor": 2
}
