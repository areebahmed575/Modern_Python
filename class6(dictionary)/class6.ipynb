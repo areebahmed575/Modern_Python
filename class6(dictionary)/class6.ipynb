{
 "cells": [
  {
   "cell_type": "markdown",
   "metadata": {},
   "source": [
    "# Set"
   ]
  },
  {
   "cell_type": "code",
   "execution_count": 11,
   "metadata": {},
   "outputs": [
    {
     "name": "stdout",
     "output_type": "stream",
     "text": [
      "{1, 2, 3, 7}\n"
     ]
    }
   ],
   "source": [
    "data : set = {7,1,2,1,1,1,1,3,2}\n",
    "print(data) # return unique"
   ]
  },
  {
   "cell_type": "code",
   "execution_count": 13,
   "metadata": {},
   "outputs": [
    {
     "ename": "TypeError",
     "evalue": "'set' object is not subscriptable",
     "output_type": "error",
     "traceback": [
      "\u001b[1;31m---------------------------------------------------------------------------\u001b[0m",
      "\u001b[1;31mTypeError\u001b[0m                                 Traceback (most recent call last)",
      "\u001b[1;32mc:\\Users\\DELL\\Documents\\blockchain\\pythonClass1\\class6(dictionary)\\class6.ipynb Cell 3\u001b[0m line \u001b[0;36m2\n\u001b[0;32m      <a href='vscode-notebook-cell:/c%3A/Users/DELL/Documents/blockchain/pythonClass1/class6%28dictionary%29/class6.ipynb#X10sZmlsZQ%3D%3D?line=0'>1</a>\u001b[0m data : \u001b[39mset\u001b[39m \u001b[39m=\u001b[39m {\u001b[39m7\u001b[39m,\u001b[39m1\u001b[39m,\u001b[39m2\u001b[39m,\u001b[39m1\u001b[39m,\u001b[39m1\u001b[39m,\u001b[39m1\u001b[39m,\u001b[39m1\u001b[39m,\u001b[39m3\u001b[39m,\u001b[39m2\u001b[39m}\n\u001b[1;32m----> <a href='vscode-notebook-cell:/c%3A/Users/DELL/Documents/blockchain/pythonClass1/class6%28dictionary%29/class6.ipynb#X10sZmlsZQ%3D%3D?line=1'>2</a>\u001b[0m \u001b[39mprint\u001b[39m(data[\u001b[39m0\u001b[39;49m]) \u001b[39m# does'nt return certain key\u001b[39;00m\n",
      "\u001b[1;31mTypeError\u001b[0m: 'set' object is not subscriptable"
     ]
    }
   ],
   "source": [
    "data : set = {7,1,2,1,1,1,1,3,2}\n",
    "print(data[0]) # does'nt return certain key"
   ]
  },
  {
   "cell_type": "code",
   "execution_count": 17,
   "metadata": {},
   "outputs": [
    {
     "name": "stdout",
     "output_type": "stream",
     "text": [
      "{1, 2, 3}\n",
      "[1, 2, 3]\n"
     ]
    }
   ],
   "source": [
    "abc : set = {1,2,3,2,2,2,1}\n",
    "print(abc)\n",
    "xyz : list[int] = list(abc)\n",
    "print(xyz)"
   ]
  },
  {
   "cell_type": "code",
   "execution_count": 14,
   "metadata": {},
   "outputs": [
    {
     "data": {
      "text/plain": [
       "['add',\n",
       " 'clear',\n",
       " 'copy',\n",
       " 'difference',\n",
       " 'difference_update',\n",
       " 'discard',\n",
       " 'intersection',\n",
       " 'intersection_update',\n",
       " 'isdisjoint',\n",
       " 'issubset',\n",
       " 'issuperset',\n",
       " 'pop',\n",
       " 'remove',\n",
       " 'symmetric_difference',\n",
       " 'symmetric_difference_update',\n",
       " 'union',\n",
       " 'update']"
      ]
     },
     "execution_count": 14,
     "metadata": {},
     "output_type": "execute_result"
    }
   ],
   "source": [
    "[i for i in dir(data) if \"__\" not in i]"
   ]
  },
  {
   "cell_type": "markdown",
   "metadata": {},
   "source": [
    "\n",
    "# Dictionary\n",
    " key:value (items)\n",
    "\n",
    "* key replacement of indexes\n",
    "* value item\n",
    "* dict_variable[key]\n",
    "\n",
    " dict_variable[new_key] = new_value\n",
    "* add new value\n",
    "* update value"
   ]
  },
  {
   "cell_type": "code",
   "execution_count": 3,
   "metadata": {},
   "outputs": [
    {
     "data": {
      "text/plain": [
       "{'eduacion:SE', 'faname:M.Farooq', 'fname:Areeb'}"
      ]
     },
     "metadata": {},
     "output_type": "display_data"
    }
   ],
   "source": [
    "from typing import Dict\n",
    "name : Dict[str,str] = {\"fname:\"\"Areeb\",\"faname:\"\"M.Farooq\",\"eduacion:\"\"SE\"}\n",
    "\n",
    "display(name)"
   ]
  },
  {
   "cell_type": "code",
   "execution_count": 10,
   "metadata": {},
   "outputs": [
    {
     "name": "stdout",
     "output_type": "stream",
     "text": [
      "{0: 'Pakistan', 'eduacion': 'SE', 'faname': 'M.Farooq', 'fname': 'Areeb'}\n",
      "Areeb\n",
      "Pakistan\n"
     ]
    }
   ],
   "source": [
    "from typing import Dict,Union,Optional\n",
    "import pprint\n",
    "Key = Union[str,int]\n",
    "Value = Union[int, str, list, dict, tuple, set]\n",
    "name : Dict[Key,Value] = {\"fname\":\"Areeb\",\"faname\":\"M.Farooq\",\"eduacion\":\"SE\",0:\"Pakistan\"}\n",
    "\n",
    "pprint.pprint(name)\n",
    "print(name[\"fname\"])\n",
    "print(name[0])"
   ]
  },
  {
   "cell_type": "code",
   "execution_count": 15,
   "metadata": {},
   "outputs": [
    {
     "ename": "TypeError",
     "evalue": "unhashable type: 'set'",
     "output_type": "error",
     "traceback": [
      "\u001b[1;31m---------------------------------------------------------------------------\u001b[0m",
      "\u001b[1;31mTypeError\u001b[0m                                 Traceback (most recent call last)",
      "\u001b[1;32mc:\\Users\\DELL\\Documents\\blockchain\\pythonClass1\\class6(dictionary)\\class6.ipynb Cell 8\u001b[0m line \u001b[0;36m9\n\u001b[0;32m      <a href='vscode-notebook-cell:/c%3A/Users/DELL/Documents/blockchain/pythonClass1/class6%28dictionary%29/class6.ipynb#X12sZmlsZQ%3D%3D?line=5'>6</a>\u001b[0m Value \u001b[39m=\u001b[39m Union[\u001b[39mint\u001b[39m, \u001b[39mstr\u001b[39m, \u001b[39mlist\u001b[39m, \u001b[39mdict\u001b[39m, \u001b[39mtuple\u001b[39m, \u001b[39mset\u001b[39m]\n\u001b[0;32m      <a href='vscode-notebook-cell:/c%3A/Users/DELL/Documents/blockchain/pythonClass1/class6%28dictionary%29/class6.ipynb#X12sZmlsZQ%3D%3D?line=7'>8</a>\u001b[0m \u001b[39m# List                    0                1            2\u001b[39;00m\n\u001b[1;32m----> <a href='vscode-notebook-cell:/c%3A/Users/DELL/Documents/blockchain/pythonClass1/class6%28dictionary%29/class6.ipynb#X12sZmlsZQ%3D%3D?line=8'>9</a>\u001b[0m data : Dict[Key,Value] \u001b[39m=\u001b[39m {\n\u001b[0;32m     <a href='vscode-notebook-cell:/c%3A/Users/DELL/Documents/blockchain/pythonClass1/class6%28dictionary%29/class6.ipynb#X12sZmlsZQ%3D%3D?line=9'>10</a>\u001b[0m                         \u001b[39m\"\u001b[39m\u001b[39mfname\u001b[39m\u001b[39m\"\u001b[39m:\u001b[39m\"\u001b[39m\u001b[39mMuhammad Aslam\u001b[39m\u001b[39m\"\u001b[39m,\n\u001b[0;32m     <a href='vscode-notebook-cell:/c%3A/Users/DELL/Documents/blockchain/pythonClass1/class6%28dictionary%29/class6.ipynb#X12sZmlsZQ%3D%3D?line=10'>11</a>\u001b[0m                         \u001b[39m\"\u001b[39m\u001b[39mname\u001b[39m\u001b[39m\"\u001b[39m:\u001b[39m\"\u001b[39m\u001b[39mMuhammad Qasim\u001b[39m\u001b[39m\"\u001b[39m,\n\u001b[0;32m     <a href='vscode-notebook-cell:/c%3A/Users/DELL/Documents/blockchain/pythonClass1/class6%28dictionary%29/class6.ipynb#X12sZmlsZQ%3D%3D?line=11'>12</a>\u001b[0m                         \u001b[39m\"\u001b[39m\u001b[39meducation\u001b[39m\u001b[39m\"\u001b[39m: \u001b[39m\"\u001b[39m\u001b[39mMSDS\u001b[39m\u001b[39m\"\u001b[39m,\n\u001b[0;32m     <a href='vscode-notebook-cell:/c%3A/Users/DELL/Documents/blockchain/pythonClass1/class6%28dictionary%29/class6.ipynb#X12sZmlsZQ%3D%3D?line=12'>13</a>\u001b[0m                         \u001b[39m# [1,2,3] : \"Pakistan\", # error\u001b[39;00m\n\u001b[0;32m     <a href='vscode-notebook-cell:/c%3A/Users/DELL/Documents/blockchain/pythonClass1/class6%28dictionary%29/class6.ipynb#X12sZmlsZQ%3D%3D?line=13'>14</a>\u001b[0m                         \u001b[39m# (1,2,3) : \"Pakistan\", #error\u001b[39;00m\n\u001b[0;32m     <a href='vscode-notebook-cell:/c%3A/Users/DELL/Documents/blockchain/pythonClass1/class6%28dictionary%29/class6.ipynb#X12sZmlsZQ%3D%3D?line=14'>15</a>\u001b[0m                          {\u001b[39m1\u001b[39m,\u001b[39m2\u001b[39m,\u001b[39m3\u001b[39m} : \u001b[39m\"\u001b[39m\u001b[39mpakistan\u001b[39m\u001b[39m\"\u001b[39m, \u001b[39m#error\u001b[39;00m\n\u001b[0;32m     <a href='vscode-notebook-cell:/c%3A/Users/DELL/Documents/blockchain/pythonClass1/class6%28dictionary%29/class6.ipynb#X12sZmlsZQ%3D%3D?line=15'>16</a>\u001b[0m                         }\n\u001b[0;32m     <a href='vscode-notebook-cell:/c%3A/Users/DELL/Documents/blockchain/pythonClass1/class6%28dictionary%29/class6.ipynb#X12sZmlsZQ%3D%3D?line=17'>18</a>\u001b[0m pprint\u001b[39m.\u001b[39mpprint(data)\n\u001b[0;32m     <a href='vscode-notebook-cell:/c%3A/Users/DELL/Documents/blockchain/pythonClass1/class6%28dictionary%29/class6.ipynb#X12sZmlsZQ%3D%3D?line=18'>19</a>\u001b[0m \u001b[39mprint\u001b[39m(data[\u001b[39m\"\u001b[39m\u001b[39mname\u001b[39m\u001b[39m\"\u001b[39m])\n",
      "\u001b[1;31mTypeError\u001b[0m: unhashable type: 'set'"
     ]
    }
   ],
   "source": [
    "from typing import Dict, Union, Optional\n",
    "import pprint\n",
    "\n",
    "\n",
    "Key = Union[int,str] # create custom type\n",
    "Value = Union[int, str, list, dict, tuple, set]\n",
    "\n",
    "# List                    0                1            2\n",
    "data : Dict[Key,Value] = {\n",
    "                        \"fname\":\"Muhammad Aslam\",\n",
    "                        \"name\":\"Muhammad Qasim\",\n",
    "                        \"education\": \"MSDS\",\n",
    "                        # [1,2,3] : \"Pakistan\", # error\n",
    "                        # (1,2,3) : \"Pakistan\", #error\n",
    "                         {1,2,3} : \"pakistan\", #error\n",
    "                        }\n",
    "\n",
    "pprint.pprint(data)\n",
    "print(data[\"name\"])\n",
    "print(data['fname'])\n",
    "print(data['education'])\n",
    "# print(data[0]) # index = key"
   ]
  },
  {
   "cell_type": "code",
   "execution_count": 16,
   "metadata": {},
   "outputs": [
    {
     "name": "stdout",
     "output_type": "stream",
     "text": [
      "{'abc': [1, 2, 3],\n",
      " 'cde': {'a': 1, 'b': 2},\n",
      " 'education': 'MSDS',\n",
      " 'efg': (1, 2, 3),\n",
      " 'fname': 'Muhammad Aslam',\n",
      " 'name': 'Muhammad Qasim',\n",
      " 'xyz': {1, 2, 3}}\n",
      "Muhammad Qasim\n",
      "Muhammad Aslam\n",
      "{1, 2, 3}\n",
      "MSDS\n"
     ]
    }
   ],
   "source": [
    "from typing import Dict, Union, Optional\n",
    "import pprint\n",
    "\n",
    "\n",
    "Key = Union[int,str] # create custom type\n",
    "Value = Union[int, str, list, dict, tuple, set]\n",
    "\n",
    "# List                    0                1            2\n",
    "data : Dict[Key,Value] = {\n",
    "                        \"fname\":\"Muhammad Aslam\",\n",
    "                        \"name\":\"Muhammad Qasim\",\n",
    "                        \"education\": \"MSDS\",\n",
    "                        \"abc\" : [1,2,3],\n",
    "                        'xyz': {1,2,3},\n",
    "                        'efg' : (1,2,3),\n",
    "                        'cde' : {\"a\":1, \"b\":2}\n",
    "                        # [1,2,3] : \"Pakistan\", # error\n",
    "                        # (1,2,3) : \"Pakistan\", #error\n",
    "                        # {1,2,3} : \"pakistan\", #error\n",
    "                        }\n",
    "\n",
    "pprint.pprint(data)\n",
    "print(data[\"name\"])\n",
    "print(data['fname'])\n",
    "\n",
    "print(data['xyz'])\n",
    "print(data['education'])"
   ]
  },
  {
   "cell_type": "code",
   "execution_count": 21,
   "metadata": {},
   "outputs": [
    {
     "name": "stdout",
     "output_type": "stream",
     "text": [
      "1\n",
      "2\n"
     ]
    }
   ],
   "source": [
    "from typing import Dict, Union, Optional\n",
    "import pprint\n",
    "\n",
    "\n",
    "Key = Union[int,str] # create custom type\n",
    "Value = Union[int, str, list, dict, tuple, set]\n",
    "\n",
    "# List                    0                1            2\n",
    "data : Dict[Key,Value] = {\n",
    "                        \"fname\":\"Muhammad Aslam\",\n",
    "                        \"name\":\"Muhammad Qasim\",\n",
    "                        \"education\": \"MSDS\",\n",
    "                        \"abc\" : [1,2,3],\n",
    "                        'xyz': {1,2,3},\n",
    "                        'efg' : (1,2,3),\n",
    "                        'cde' : {\"a\":1, \"b\":2}\n",
    "                        # [1,2,3] : \"Pakistan\", # error\n",
    "                        # (1,2,3) : \"Pakistan\", #error\n",
    "                        # {1,2,3} : \"pakistan\", #error\n",
    "                        }\n",
    "\n",
    "print(data[\"cde\"][\"a\"])\n",
    "print(data[\"cde\"][\"b\"])"
   ]
  },
  {
   "cell_type": "code",
   "execution_count": 1,
   "metadata": {},
   "outputs": [
    {
     "name": "stdout",
     "output_type": "stream",
     "text": [
      "2\n"
     ]
    }
   ],
   "source": [
    "from typing import Union, TypedDict, Tuple, Set, List\n",
    "import pprint\n",
    "\n",
    "cdeDataType = TypedDict(\n",
    "    'cdeDataType',\n",
    "    {\n",
    "        \"a\": int,\n",
    "        \"b\": int\n",
    "    }\n",
    ")\n",
    "\n",
    "myDataType = TypedDict(\n",
    "    'myDataType', {\n",
    "        \"fname\": str,\n",
    "        \"name\": str,\n",
    "        \"education\": str,\n",
    "        \"abc\": List[int],\n",
    "        'xyz': Set[int],\n",
    "        'efg': Tuple,\n",
    "        'cde': cdeDataType\n",
    "    }\n",
    ")\n",
    "\n",
    "\n",
    "# Key = Union[int, str]  # create custom type\n",
    "# Value = Union[int, str, list, tuple, set]\n",
    "\n",
    "\n",
    "data: myDataType = {\n",
    "    \"fname\": \"Muhammad Aslam\",\n",
    "    \"name\": \"Muhammad Qasim\",\n",
    "    \"education\": \"MSDS\",\n",
    "    \"abc\": [1, 2, 3],\n",
    "    'xyz': {1, 2, 3},\n",
    "    'efg': (1, 2, 3),\n",
    "    'cde': {\"a\": 1, \"b\": 2}\n",
    "}\n",
    "\n",
    "print(data['cde']['b'])"
   ]
  },
  {
   "cell_type": "markdown",
   "metadata": {},
   "source": [
    "# Adding items in Dict"
   ]
  },
  {
   "cell_type": "code",
   "execution_count": 23,
   "metadata": {},
   "outputs": [
    {
     "name": "stdout",
     "output_type": "stream",
     "text": [
      "{'fname': 'Areeb', 'lname': 'Ahmed'}\n"
     ]
    }
   ],
   "source": [
    "from typing import Dict,Union,Optional\n",
    "import pprint\n",
    "Key = Union[str,int]\n",
    "Value = Union[int, str, list, dict, tuple, set]\n",
    "name : Dict[Key,Value] = {}\n",
    "\n",
    "name[\"fname\"] = \"Areeb\"\n",
    "name[\"lname\"] = \"Ahmed\"\n",
    "print(name)"
   ]
  },
  {
   "cell_type": "markdown",
   "metadata": {},
   "source": [
    "# Update Dictionary"
   ]
  },
  {
   "cell_type": "code",
   "execution_count": 25,
   "metadata": {},
   "outputs": [
    {
     "name": "stdout",
     "output_type": "stream",
     "text": [
      "{'fname': 'Ali', 'faname': 'M.Farooq', 'eduacion': 'SE', 0: 'Pakistan'}\n"
     ]
    }
   ],
   "source": [
    "from typing import Dict,Union,Optional\n",
    "import pprint\n",
    "Key = Union[str,int]\n",
    "Value = Union[int, str, list, dict, tuple, set]\n",
    "name : Dict[Key,Value] = {\"fname\":\"Areeb\",\"faname\":\"M.Farooq\",\"eduacion\":\"SE\",0:\"Pakistan\"}\n",
    "\n",
    "name[\"fname\"] = \"Ali\"\n",
    "print(name)"
   ]
  },
  {
   "cell_type": "code",
   "execution_count": 26,
   "metadata": {},
   "outputs": [
    {
     "data": {
      "text/plain": [
       "['clear',\n",
       " 'copy',\n",
       " 'fromkeys',\n",
       " 'get',\n",
       " 'items',\n",
       " 'keys',\n",
       " 'pop',\n",
       " 'popitem',\n",
       " 'setdefault',\n",
       " 'update',\n",
       " 'values']"
      ]
     },
     "execution_count": 26,
     "metadata": {},
     "output_type": "execute_result"
    }
   ],
   "source": [
    "[i for i in dir(data) if \"__\" not in i]"
   ]
  },
  {
   "cell_type": "code",
   "execution_count": 30,
   "metadata": {},
   "outputs": [
    {
     "name": "stdout",
     "output_type": "stream",
     "text": [
      "NA\n",
      "Areeb\n"
     ]
    }
   ],
   "source": [
    "from typing import Dict,Union,Optional\n",
    "import pprint\n",
    "Key = Union[str,int]\n",
    "Value = Union[int, str, list, dict, tuple, set]\n",
    "name : Dict[Key,Value] = {\"fname\":\"Areeb\",\"faname\":\"M.Farooq\",\"eduacion\":\"SE\",0:\"Pakistan\"}\n",
    "\n",
    "print(name.get(\"pakistan\",\"NA\"))\n",
    "print(name.get(\"fname\",\"NA\"))\n",
    "\n"
   ]
  },
  {
   "cell_type": "code",
   "execution_count": 2,
   "metadata": {},
   "outputs": [
    {
     "name": "stdout",
     "output_type": "stream",
     "text": [
      "dict_keys(['fname', 'faname', 'eduacion', 0])\n",
      "dict_values(['Areeb', 'M.Farooq', 'SE', 'Pakistan'])\n",
      "dict_items([('fname', 'Areeb'), ('faname', 'M.Farooq'), ('eduacion', 'SE'), (0, 'Pakistan')])\n"
     ]
    }
   ],
   "source": [
    "from typing import Dict,Union,Optional\n",
    "import pprint\n",
    "Key = Union[str,int]\n",
    "Value = Union[int, str, list, dict, tuple, set]\n",
    "name : Dict[Key,Value] = {\"fname\":\"Areeb\",\"faname\":\"M.Farooq\",\"eduacion\":\"SE\",0:\"Pakistan\"}\n",
    "\n",
    "print(name.keys())\n",
    "print(name.values())\n",
    "print(name.items())\n"
   ]
  },
  {
   "cell_type": "code",
   "execution_count": 38,
   "metadata": {},
   "outputs": [
    {
     "name": "stdout",
     "output_type": "stream",
     "text": [
      "fname\n",
      "faname\n",
      "eduacion\n",
      "0\n"
     ]
    }
   ],
   "source": [
    "from typing import Dict,Union,Optional\n",
    "import pprint\n",
    "Key = Union[str,int]\n",
    "Value = Union[int, str, list, dict, tuple, set]\n",
    "name : Dict[Key,Value] = {\"fname\":\"Areeb\",\"faname\":\"M.Farooq\",\"eduacion\":\"SE\",0:\"Pakistan\"}\n",
    "\n",
    "\n",
    "\n",
    "for i in name.keys():\n",
    "    print(i)"
   ]
  },
  {
   "cell_type": "code",
   "execution_count": 39,
   "metadata": {},
   "outputs": [
    {
     "name": "stdout",
     "output_type": "stream",
     "text": [
      "Areeb\n",
      "M.Farooq\n",
      "SE\n",
      "Pakistan\n"
     ]
    }
   ],
   "source": [
    "from typing import Dict,Union,Optional\n",
    "import pprint\n",
    "Key = Union[str,int]\n",
    "Value = Union[int, str, list, dict, tuple, set]\n",
    "name : Dict[Key,Value] = {\"fname\":\"Areeb\",\"faname\":\"M.Farooq\",\"eduacion\":\"SE\",0:\"Pakistan\"}\n",
    "\n",
    "\n",
    "for v in name.values():\n",
    "    print(v)"
   ]
  },
  {
   "cell_type": "code",
   "execution_count": 4,
   "metadata": {},
   "outputs": [
    {
     "name": "stdout",
     "output_type": "stream",
     "text": [
      "fname Areeb\n",
      "faname M.Farooq\n",
      "eduacion SE\n",
      "0 Pakistan\n"
     ]
    }
   ],
   "source": [
    "from typing import Dict,Union,Optional\n",
    "import pprint\n",
    "Key = Union[str,int]\n",
    "Value = Union[int, str, list, dict, tuple, set]\n",
    "name : Dict[Key,Value] = {\"fname\":\"Areeb\",\"faname\":\"M.Farooq\",\"eduacion\":\"SE\",0:\"Pakistan\"}\n",
    "\n",
    "\n",
    "\n",
    "for k,v in name.items():\n",
    "    print(k,v)"
   ]
  },
  {
   "cell_type": "code",
   "execution_count": null,
   "metadata": {},
   "outputs": [],
   "source": [
    "from typing import Dict,Union,Optional\n",
    "import pprint\n",
    "Key = Union[str,int]\n",
    "Value = Union[int, str, list, dict, tuple, set]\n",
    "name : Dict[Key,Value] = {\"fname\":\"Areeb\",\"faname\":\"M.Farooq\",\"eduacion\":\"SE\",0:\"Pakistan\"}\n",
    "\n",
    "\n",
    "\n",
    "for k,v in name.items():\n",
    "    print(k,v)"
   ]
  },
  {
   "cell_type": "code",
   "execution_count": 7,
   "metadata": {},
   "outputs": [
    {
     "data": {
      "text/plain": [
       "{'fname': 'Areeb', 'faname': 'M.Farooq', 'eduacion': 'SE', 0: 'Pakistan'}"
      ]
     },
     "execution_count": 7,
     "metadata": {},
     "output_type": "execute_result"
    }
   ],
   "source": [
    "{k:v for k,v in name.items()}\n"
   ]
  },
  {
   "cell_type": "code",
   "execution_count": 43,
   "metadata": {},
   "outputs": [
    {
     "data": {
      "text/plain": [
       "{'Areeb': 'fname', 'M.Farooq': 'faname', 'SE': 'eduacion', 'Pakistan': 0}"
      ]
     },
     "execution_count": 43,
     "metadata": {},
     "output_type": "execute_result"
    }
   ],
   "source": [
    "{v:k for k,v in name.items()}\n"
   ]
  },
  {
   "cell_type": "code",
   "execution_count": 44,
   "metadata": {},
   "outputs": [
    {
     "name": "stdout",
     "output_type": "stream",
     "text": [
      "9 7\n"
     ]
    }
   ],
   "source": [
    "a : int = 7\n",
    "b : int = 9\n",
    "\n",
    "a, b = b, a # shuffle\n",
    "\n",
    "print(a,b)"
   ]
  },
  {
   "cell_type": "code",
   "execution_count": 49,
   "metadata": {},
   "outputs": [
    {
     "name": "stdout",
     "output_type": "stream",
     "text": [
      "{}\n",
      "{}\n"
     ]
    }
   ],
   "source": [
    "keys : list[str] = ['id','name','fname','course']\n",
    "\n",
    "data : dict[Key,Value] = {}\n",
    "\n",
    "print(data)\n",
    "data.fromkeys(keys) #inline operation\n",
    "print(data)"
   ]
  },
  {
   "cell_type": "code",
   "execution_count": 51,
   "metadata": {},
   "outputs": [
    {
     "name": "stdout",
     "output_type": "stream",
     "text": [
      "{}\n",
      "{'id': None, 'name': None, 'fname': None, 'course': None}\n"
     ]
    }
   ],
   "source": [
    "keys : list[str] = ['id','name','fname','course']\n",
    "\n",
    "data : dict[Key,Value] = {}\n",
    "\n",
    "print(data)\n",
    "data = data.fromkeys(keys) #inline operation\n",
    "print(data)"
   ]
  }
 ],
 "metadata": {
  "kernelspec": {
   "display_name": "python12",
   "language": "python",
   "name": "python3"
  },
  "language_info": {
   "codemirror_mode": {
    "name": "ipython",
    "version": 3
   },
   "file_extension": ".py",
   "mimetype": "text/x-python",
   "name": "python",
   "nbconvert_exporter": "python",
   "pygments_lexer": "ipython3",
   "version": "3.12.0"
  }
 },
 "nbformat": 4,
 "nbformat_minor": 2
}
