{
 "cells": [
  {
   "cell_type": "markdown",
   "metadata": {},
   "source": [
    "# OOP (Object Oriented Programming)\n",
    "* Class\n",
    "\n",
    "    * method\n",
    "\n",
    "     * first argument must be additional variable (self, this, or anything else)\n",
    "       attribute\n",
    "\n",
    "      connect with individual object\n",
    "* class variables\n",
    "\n",
    "* constructor\n",
    "\n",
    "    *def __init__(self,arg1, arg2)\n",
    "* Class variable\n",
    "\n",
    "*   this value use for all objects\n",
    "      * ClassName.class_vriable\n",
    "* class ClassName():\n",
    "     * class_variable1 : type = Value\n",
    "# Syntax of class\n",
    "      class ClassName():\n",
    "         pass"
   ]
  },
  {
   "cell_type": "code",
   "execution_count": 5,
   "metadata": {},
   "outputs": [],
   "source": [
    "class Teacher:\n",
    "    def __init__(self,teacher_id :str,teacher_name : str) -> None:\n",
    "        self.id :str = teacher_id\n",
    "        self.name :str = teacher_name\n",
    "\n",
    "\n",
    "    def speak(self,word : str)->None:\n",
    "        print(f\"{self.name} is speaking {word}\")\n",
    "    \n",
    "    def teaching(self,subject : str)->None:\n",
    "        print(f\"{self.name} is teaching {subject}\")\n",
    "\n",
    "obj1 = Teacher(1,\"Areeb Ahmed\")\n",
    "# obj1 = object, teacher class instance\n",
    "        "
   ]
  },
  {
   "cell_type": "code",
   "execution_count": 4,
   "metadata": {},
   "outputs": [
    {
     "name": "stdout",
     "output_type": "stream",
     "text": [
      "Areeb Ahmed\n",
      "1\n"
     ]
    }
   ],
   "source": [
    "print(obj1.name)\n",
    "print(obj1.id)"
   ]
  },
  {
   "cell_type": "code",
   "execution_count": 6,
   "metadata": {},
   "outputs": [
    {
     "name": "stdout",
     "output_type": "stream",
     "text": [
      "Areeb Ahmed is teaching Generative AI\n",
      "Areeb Ahmed is speaking English\n"
     ]
    }
   ],
   "source": [
    "obj1.teaching(\"Generative AI\")\n",
    "obj1.speak(\"English\")"
   ]
  },
  {
   "cell_type": "code",
   "execution_count": 7,
   "metadata": {},
   "outputs": [
    {
     "data": {
      "text/plain": [
       "['__class__',\n",
       " '__delattr__',\n",
       " '__dict__',\n",
       " '__dir__',\n",
       " '__doc__',\n",
       " '__eq__',\n",
       " '__format__',\n",
       " '__ge__',\n",
       " '__getattribute__',\n",
       " '__getstate__',\n",
       " '__gt__',\n",
       " '__hash__',\n",
       " '__init__',\n",
       " '__init_subclass__',\n",
       " '__le__',\n",
       " '__lt__',\n",
       " '__module__',\n",
       " '__ne__',\n",
       " '__new__',\n",
       " '__reduce__',\n",
       " '__reduce_ex__',\n",
       " '__repr__',\n",
       " '__setattr__',\n",
       " '__sizeof__',\n",
       " '__str__',\n",
       " '__subclasshook__',\n",
       " '__weakref__',\n",
       " 'id',\n",
       " 'name',\n",
       " 'speak',\n",
       " 'teaching']"
      ]
     },
     "execution_count": 7,
     "metadata": {},
     "output_type": "execute_result"
    }
   ],
   "source": [
    "dir(obj1)"
   ]
  },
  {
   "cell_type": "markdown",
   "metadata": {},
   "source": [
    "# Class Variable\n",
    "\n",
    "* this value use for all objects\n",
    "\n",
    "* ClassName.class_variable\n",
    "* object_name.class_variable\n",
    "* class ClassName():\n",
    "     * class_variable1 : type = Value"
   ]
  },
  {
   "cell_type": "code",
   "execution_count": 21,
   "metadata": {},
   "outputs": [
    {
     "name": "stdout",
     "output_type": "stream",
     "text": [
      "0\n",
      "0\n",
      "0315-2968211\n",
      "0315-2968211\n"
     ]
    },
    {
     "data": {
      "text/plain": [
       "2"
      ]
     },
     "execution_count": 21,
     "metadata": {},
     "output_type": "execute_result"
    }
   ],
   "source": [
    "class Teacher:\n",
    "    counter : int = 0 # Class variable1\n",
    "    help_line_number : str = \"0315-2968211\" # class variable2\n",
    "    def __init__(self,teacher_id :str,teacher_name : str) -> None:\n",
    "        self.id :str = teacher_id\n",
    "        self.name :str = teacher_name\n",
    "\n",
    "\n",
    "    def speak(self,word : str)->None:\n",
    "        print(f\"{self.name} is speaking {word}\")\n",
    "    \n",
    "    def teaching(self,subject : str)->None:\n",
    "        print(f\"{self.name} is teaching {subject}\")\n",
    "\n",
    "   \n",
    "\n",
    "\n",
    "obj1 = Teacher(1,\"Areeb Ahmed\")\n",
    "print(obj1.counter)\n",
    "print(Teacher.counter)\n",
    "print(obj1.help_line_number)\n",
    "print(Teacher.help_line_number)\n",
    "2\n",
    "        "
   ]
  },
  {
   "cell_type": "code",
   "execution_count": 26,
   "metadata": {},
   "outputs": [
    {
     "name": "stdout",
     "output_type": "stream",
     "text": [
      "Teacher name is Areeb Ahmed our help line number is 0315-2968211\n",
      "None\n"
     ]
    }
   ],
   "source": [
    "class Teacher:\n",
    "    counter : int = 0 # Class variable1\n",
    "    help_line_number : str = \"0315-2968211\" # class variable2\n",
    "    def __init__(self,teacher_id :str,teacher_name : str) -> None:\n",
    "        self.id :str = teacher_id\n",
    "        self.name :str = teacher_name\n",
    "\n",
    "\n",
    "    def speak(self,word : str)->None:\n",
    "        print(f\"{self.name} is speaking {word}\")\n",
    "    \n",
    "    def teaching(self,subject : str)->None:\n",
    "        print(f\"{self.name} is teaching {subject}\")\n",
    "\n",
    "    def details(self)->None:\n",
    "        information : str = f\"\"\"Teacher name is {self.name} our help line number is {Teacher.help_line_number}\"\"\"\n",
    "        print(information)    \n",
    "\n",
    "\n",
    "\n",
    "\n",
    "obj1 : Teacher = Teacher(1,\"Areeb Ahmed\")\n",
    "print(obj1.details())"
   ]
  },
  {
   "cell_type": "code",
   "execution_count": 30,
   "metadata": {},
   "outputs": [
    {
     "name": "stdout",
     "output_type": "stream",
     "text": [
      "Teacher name is Areeb Ahmed our help line number is 0315-2968211\n",
      "1\n"
     ]
    }
   ],
   "source": [
    "class Teacher:\n",
    "    counter : int = 0 # Class variable1\n",
    "    help_line_number : str = \"0315-2968211\" # class variable2\n",
    "    def __init__(self,teacher_id :str,teacher_name : str) -> None:\n",
    "        self.id :str = teacher_id\n",
    "        self.name :str = teacher_name\n",
    "        Teacher.counter += 1\n",
    "\n",
    "\n",
    "    def speak(self,word : str)->None:\n",
    "        print(f\"{self.name} is speaking {word}\")\n",
    "    \n",
    "    def teaching(self,subject : str)->None:\n",
    "        print(f\"{self.name} is teaching {subject}\")\n",
    "\n",
    "    def details(self)->None:\n",
    "        information : str = f\"\"\"Teacher name is {self.name} our help line number is {Teacher.help_line_number}\"\"\"\n",
    "        print(information)    \n",
    "\n",
    "\n",
    "\n",
    "\n",
    "obj1 : Teacher = Teacher(1,\"Areeb Ahmed\")\n",
    "obj1.details()\n",
    "print(Teacher.counter)\n"
   ]
  },
  {
   "cell_type": "code",
   "execution_count": 31,
   "metadata": {},
   "outputs": [
    {
     "name": "stdout",
     "output_type": "stream",
     "text": [
      "2\n"
     ]
    }
   ],
   "source": [
    "obj2 : Teacher = Teacher(1,\"Ali Ahmed\")\n",
    "print(obj2.counter)"
   ]
  },
  {
   "cell_type": "code",
   "execution_count": 32,
   "metadata": {},
   "outputs": [
    {
     "name": "stdout",
     "output_type": "stream",
     "text": [
      "Brown\n",
      "black\n",
      "Parent method speak: Pakistan zinda bad!\n",
      "You are looking TV!\n",
      "======Child object=======\n",
      "You are looking Cenima!\n",
      "None\n",
      "Parent method speak: Hello World\n",
      "None\n",
      "Brown\n",
      "black\n"
     ]
    }
   ],
   "source": [
    "class Parents():\n",
    "    def __init__(self)->None:\n",
    "        self.eye_color : str = \"Brown\"\n",
    "        self.hair_color : str = \"black\"\n",
    "\n",
    "    def speak(self, words: str)->None:\n",
    "        print(f\"Parent method speak: {words}\")\n",
    "\n",
    "    def watching(self, object_name : str)->None:\n",
    "        print(f\"You are looking {object_name}!\")\n",
    "\n",
    "\n",
    "class Child(Parents):\n",
    "    pass \n",
    "\n",
    "\n",
    "\n",
    "obj1 : Parents = Parents()\n",
    "print(obj1.eye_color)\n",
    "print(obj1.hair_color)\n",
    "obj1.speak(\"Pakistan zinda bad!\")\n",
    "obj1.watching(\"TV\")\n",
    "\n",
    "print(\"======Child object=======\")\n",
    "### Child object \n",
    "\n",
    "obj2 : Child = Child()\n",
    "print(obj2.watching(\"Cenima\"))\n",
    "print(obj2.speak(\"Hello World\"))\n",
    "print(obj2.eye_color)\n",
    "print(obj2.hair_color)"
   ]
  },
  {
   "cell_type": "code",
   "execution_count": 34,
   "metadata": {},
   "outputs": [
    {
     "name": "stdout",
     "output_type": "stream",
     "text": [
      "Brown\n",
      "black\n",
      "Parent method speak: Pakistan zinda bad!\n",
      "You are looking TV!\n",
      "======Child object=======\n",
      "You are looking Cenima!\n",
      "None\n",
      "Parent method speak: Hello World\n",
      "None\n",
      "Brown\n",
      "black\n",
      "Child method for teaching : Gen Ai\n"
     ]
    }
   ],
   "source": [
    "class Parents():\n",
    "    def __init__(self)->None:\n",
    "        self.eye_color : str = \"Brown\"\n",
    "        self.hair_color : str = \"black\"\n",
    "\n",
    "    def speak(self, words: str)->None:\n",
    "        print(f\"Parent method speak: {words}\")\n",
    "\n",
    "    def watching(sef, object_name : str)->None:\n",
    "        print(f\"You are looking {object_name}!\")\n",
    "\n",
    "\n",
    "class Child(Parents):\n",
    "    def teaching(self,subject : str = None)->None:\n",
    "       print(f'Child method for teaching : {subject}')\n",
    "\n",
    "\n",
    "\n",
    "obj1 : Parents = Parents()\n",
    "print(obj1.eye_color)\n",
    "print(obj1.hair_color)\n",
    "obj1.speak(\"Pakistan zinda bad!\")\n",
    "obj1.watching(\"TV\")\n",
    "\n",
    "print(\"======Child object=======\")\n",
    "### Child object \n",
    "\n",
    "obj2 : Child = Child()\n",
    "print(obj2.watching(\"Cenima\"))\n",
    "print(obj2.speak(\"Hello World\"))\n",
    "print(obj2.eye_color)\n",
    "print(obj2.hair_color)\n",
    "obj2.teaching('Gen Ai')"
   ]
  },
  {
   "cell_type": "code",
   "execution_count": 1,
   "metadata": {},
   "outputs": [
    {
     "name": "stdout",
     "output_type": "stream",
     "text": [
      "Animation Artist\n",
      "['python']\n",
      "Areeb\n"
     ]
    }
   ],
   "source": [
    "from typing import List\n",
    "\n",
    "class Employee:\n",
    "    def __init__(self, name: str) -> None:\n",
    "        self.name: str = name\n",
    "        self.education: str = \"\"\n",
    "        self.department: str = \"\"\n",
    "\n",
    "class Designer(Employee):\n",
    "    def __init__(self, title: str, name: str) -> None:\n",
    "        super().__init__(name)\n",
    "        self.title: str = title\n",
    "\n",
    "class Developer(Employee):\n",
    "    def __init__(self, title: str, name: str) -> None:\n",
    "        super().__init__(name)\n",
    "        self.title: str = title\n",
    "        self.programming_skills: List[str] = [\"python\"]\n",
    "\n",
    "designer1: Designer = Designer(\"Animation Artist\", \"Asif Khan\")\n",
    "dev1: Developer = Developer(\"GenAI Engineer\", \"John Doe\")\n",
    "\n",
    "print(designer1.title)  # Output: Animation Artist\n",
    "print(dev1.programming_skills) "
   ]
  },
  {
   "cell_type": "code",
   "execution_count": 2,
   "metadata": {},
   "outputs": [],
   "source": [
    "from typing import Union, overload\n",
    "\n",
    "@overload\n",
    "def add(x: int, y: int) -> int:\n",
    "    ...\n",
    "\n",
    "@overload\n",
    "def add(x: float, y: float) -> float:\n",
    "    ...\n",
    "\n",
    "@overload\n",
    "def add(x: str, y: str) -> str:\n",
    "    ...\n",
    "\n",
    "def add(x: Union[int, float, str], y: Union[int, float, str]) -> Union[int, float, str]:\n",
    "    if isinstance(x, int) and isinstance(y, int):\n",
    "        return x + y\n",
    "    elif isinstance(x, float) and isinstance(y, float):\n",
    "        return x + y\n",
    "    elif isinstance(x, str) and isinstance(y, str):\n",
    "        return x + y\n",
    "    else:\n",
    "        raise TypeError(\"Invalid argument types!\")\n",
    "\n",
    "# Usage examples\n",
    "result1 = add(1, 2)  # Should return 3\n",
    "result2 = add(1.5, 2.5)  # Should return 4.0\n",
    "result3 = add(\"Hello, \", \"world!\")  # Should return \"Hello, world!\""
   ]
  }
 ],
 "metadata": {
  "kernelspec": {
   "display_name": "python12",
   "language": "python",
   "name": "python3"
  },
  "language_info": {
   "codemirror_mode": {
    "name": "ipython",
    "version": 3
   },
   "file_extension": ".py",
   "mimetype": "text/x-python",
   "name": "python",
   "nbconvert_exporter": "python",
   "pygments_lexer": "ipython3",
   "version": "3.12.0"
  }
 },
 "nbformat": 4,
 "nbformat_minor": 2
}
