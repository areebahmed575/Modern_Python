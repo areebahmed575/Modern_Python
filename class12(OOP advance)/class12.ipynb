{
 "cells": [
  {
   "cell_type": "markdown",
   "metadata": {},
   "source": [
    "# Multiple Inheritance"
   ]
  },
  {
   "cell_type": "code",
   "execution_count": 1,
   "metadata": {},
   "outputs": [
    {
     "name": "stdout",
     "output_type": "stream",
     "text": [
      "object height 6 Feet\n",
      "object eye color blue\n",
      "Monther Speaking function: Pakistan zinda bad\n"
     ]
    }
   ],
   "source": [
    "class Mother:\n",
    "    def __init__(self,name:str) -> None:\n",
    "        self.name : str = name\n",
    "        self.eye_color : str = \"blue\"\n",
    "    \n",
    "    def speaking(self, words : str )->str:\n",
    "        return f\"Monther Speaking function: {words}\"\n",
    "\n",
    "class Father:\n",
    "    def __init__(self, name:str)->None:\n",
    "        self.name : str = name\n",
    "        self.height : str = \"6 Feet\"\n",
    "\n",
    "    def speaking(self, words : str )->str:\n",
    "        return f\"Father Speaking function: {words}\"\n",
    "\n",
    "class Child(Mother, Father):\n",
    "    def __init__(self, mother_name : str, father_name : str , child_name: str)->None:\n",
    "        Mother.__init__(self, mother_name)\n",
    "        Father.__init__(self, father_name)\n",
    "        self.child_name : str = child_name\n",
    "\n",
    "qasim : Child = Child(\"Naseem Bano\", \"Muhammad Aslam\",\"Muhammad Qasim\")\n",
    "print(f\"object height {qasim.height}\")\n",
    "print(f\"object eye color {qasim.eye_color}\")\n",
    "print(qasim.speaking(\"Pakistan zinda bad\"))"
   ]
  },
  {
   "cell_type": "code",
   "execution_count": 9,
   "metadata": {},
   "outputs": [
    {
     "name": "stdout",
     "output_type": "stream",
     "text": [
      "object height 6 Feet\n",
      "object eye color blue\n",
      "Father Speaking function: Pakistan zinda bad\n"
     ]
    },
    {
     "data": {
      "text/plain": [
       "['child_name', 'eye_color', 'height', 'name', 'speaking']"
      ]
     },
     "execution_count": 9,
     "metadata": {},
     "output_type": "execute_result"
    }
   ],
   "source": [
    "class Mother:\n",
    "    def __init__(self,name:str) -> None:\n",
    "        self.name : str = name\n",
    "        self.eye_color : str = \"blue\"\n",
    "    \n",
    "    def speaking(self, words : str )->str:\n",
    "        return f\"Monther Speaking function: {words}\"\n",
    "\n",
    "class Father:\n",
    "    def __init__(self, name:str)->None:\n",
    "        self.name : str = name\n",
    "        self.height : str = \"6 Feet\"\n",
    "\n",
    "    def speaking(self, words : str )->str:\n",
    "        return f\"Father Speaking function: {words}\"\n",
    "\n",
    "class Child(Father, Mother):\n",
    "    def __init__(self, mother_name : str, father_name : str , child_name: str)->None:\n",
    "        Mother.__init__(self, mother_name)\n",
    "        Father.__init__(self, father_name)\n",
    "        self.child_name : str = child_name\n",
    "\n",
    "qasim : Child = Child(\"Naseem Bano\", \"Muhammad Aslam\",\"Muhammad Qasim\")\n",
    "\n",
    "print(f\"object height {qasim.height}\")\n",
    "print(f\"object eye color {qasim.eye_color}\")\n",
    "print(qasim.speaking(\"Pakistan zinda bad\"))\n"
   ]
  },
  {
   "cell_type": "code",
   "execution_count": 10,
   "metadata": {},
   "outputs": [
    {
     "data": {
      "text/plain": [
       "['child_name', 'eye_color', 'height', 'name', 'speaking']"
      ]
     },
     "execution_count": 10,
     "metadata": {},
     "output_type": "execute_result"
    }
   ],
   "source": [
    "[i for i in dir(qasim) if \"__\" not in i]"
   ]
  },
  {
   "cell_type": "markdown",
   "metadata": {},
   "source": [
    "# Function Overloading"
   ]
  },
  {
   "cell_type": "code",
   "execution_count": 3,
   "metadata": {},
   "outputs": [],
   "source": [
    "from typing import Union, overload\n",
    "\n",
    "@overload\n",
    "def add(x: int, y: int) -> int:\n",
    "    ...\n",
    "\n",
    "@overload\n",
    "def add(x: float, y: float) -> float:\n",
    "    ...\n",
    "\n",
    "@overload\n",
    "def add(x: str, y: str) -> str:\n",
    "    ...\n",
    "\n",
    "def add(x: Union[int, float, str], y: Union[int, float, str]) -> Union[int, float, str]:\n",
    "    if isinstance(x, int) and isinstance(y, int):\n",
    "        return x + y\n",
    "    elif isinstance(x, float) and isinstance(y, float):\n",
    "        return x + y\n",
    "    elif isinstance(x, str) and isinstance(y, str):\n",
    "        return x + y\n",
    "    else:\n",
    "        raise TypeError(\"Invalid argument types!\")\n",
    "\n",
    "# Usage examples\n",
    "result1 = add(1, 2)  # Should return 3\n",
    "result2 = add(1.5, 2.5)  # Should return 4.0\n",
    "result3 = add(\"Hello, \", \"world!\")  # Should return \"Hello, world!\""
   ]
  },
  {
   "cell_type": "markdown",
   "metadata": {},
   "source": [
    "#  Method Overloading"
   ]
  },
  {
   "cell_type": "code",
   "execution_count": 4,
   "metadata": {},
   "outputs": [
    {
     "name": "stdout",
     "output_type": "stream",
     "text": [
      "3\n",
      "4.0\n",
      "Hello, world!\n"
     ]
    }
   ],
   "source": [
    "\n",
    "from typing import Union, overload\n",
    "\n",
    "class Adder:\n",
    "    @overload\n",
    "    def add(self, x: int, y: int) -> int:\n",
    "        ...\n",
    "        \n",
    "    @overload\n",
    "    def add(self, x: float, y: float) -> float:\n",
    "        ...\n",
    "        \n",
    "    @overload\n",
    "    def add(self, x: str, y: str) -> str:\n",
    "        ...\n",
    "        \n",
    "    \n",
    "    def add(self, x: Union[int, float, str], y: Union[int, float, str]) -> Union[int, float, str]:\n",
    "        if isinstance(x, int) and isinstance(y, int):\n",
    "            return x + y\n",
    "        elif isinstance(x, float) and isinstance(y, float):\n",
    "            return x + y\n",
    "        elif isinstance(x, str) and isinstance(y, str):\n",
    "            return x + y\n",
    "        else:\n",
    "            raise TypeError(\"Invalid argument types!\")\n",
    "\n",
    "# Usage examples\n",
    "adder = Adder()\n",
    "result1 = adder.add(1, 2)  # Should return 3\n",
    "result2 = adder.add(1.5, 2.5)  # Should return 4.0\n",
    "result3 = adder.add(\"Hello, \", \"world!\")  # Should return \"Hello, world!\"\n",
    "\n",
    "print(result1)\n",
    "print(result2)\n",
    "print(result3)\n"
   ]
  },
  {
   "cell_type": "markdown",
   "metadata": {},
   "source": [
    "# Overridding"
   ]
  },
  {
   "cell_type": "code",
   "execution_count": 1,
   "metadata": {},
   "outputs": [
    {
     "name": "stdout",
     "output_type": "stream",
     "text": [
      "Bird is eating bread\n",
      "Animal is eating grass\n"
     ]
    }
   ],
   "source": [
    "class Animal():\n",
    "    def eating(self,food : str )->None: #same method \n",
    "        print(f\"Animal is eating {food}\")\n",
    "\n",
    "\n",
    "class Bird(Animal):\n",
    "    def eating(self, food: str) -> None:\n",
    "        print(f\"Bird is eating {food}\")\n",
    "\n",
    "\n",
    "bird : Bird = Bird()\n",
    "bird.eating(\"bread\")\n",
    "\n",
    "animal : Animal = Animal()\n",
    "animal.eating(\"grass\")"
   ]
  },
  {
   "cell_type": "markdown",
   "metadata": {},
   "source": [
    "# Polymorphism"
   ]
  },
  {
   "cell_type": "code",
   "execution_count": 4,
   "metadata": {},
   "outputs": [
    {
     "name": "stdout",
     "output_type": "stream",
     "text": [
      "Bird is eating grass\n"
     ]
    }
   ],
   "source": [
    "animal : Animal = Bird()# run time it will decide which object method it will be run\n",
    "animal.eating(\"grass\")"
   ]
  },
  {
   "cell_type": "code",
   "execution_count": 5,
   "metadata": {},
   "outputs": [
    {
     "name": "stdout",
     "output_type": "stream",
     "text": [
      "<class '__main__.Bird'>\n"
     ]
    }
   ],
   "source": [
    "print(type(animal))"
   ]
  },
  {
   "cell_type": "code",
   "execution_count": 6,
   "metadata": {},
   "outputs": [
    {
     "name": "stdout",
     "output_type": "stream",
     "text": [
      "Animal is eating grass\n"
     ]
    }
   ],
   "source": [
    "animal : Animal = Animal()\n",
    "animal.eating(\"grass\")"
   ]
  },
  {
   "cell_type": "markdown",
   "metadata": {},
   "source": [
    "# Static Method and Static variable(class variable)"
   ]
  },
  {
   "cell_type": "code",
   "execution_count": 7,
   "metadata": {},
   "outputs": [
    {
     "name": "stdout",
     "output_type": "stream",
     "text": [
      "Addition: 30\n",
      "Multiplication: 200\n",
      "Static variable or Class variable PIAIC\n"
     ]
    }
   ],
   "source": [
    "class MathOperations:\n",
    "\n",
    "    counter : int = 100\n",
    "    organization : str = \"PIAIC\"\n",
    "\n",
    "    @staticmethod\n",
    "    def add(x: int, y: int) -> int:\n",
    "        \"\"\"Add two numbers.\"\"\"\n",
    "        return x + y\n",
    "\n",
    "    @staticmethod\n",
    "    def multiply(x: int, y: int) -> int:\n",
    "        \"\"\"Multiply two numbers.\"\"\"\n",
    "        return x * y\n",
    "\n",
    "# Using the static methods\n",
    "result_add = MathOperations.add(10, 20)\n",
    "result_multiply = MathOperations.multiply(10, 20)\n",
    "\n",
    "print(\"Addition:\", result_add)\n",
    "print(\"Multiplication:\", result_multiply)\n",
    "\n",
    "print(\"Static variable or Class variable\",MathOperations.organization)"
   ]
  },
  {
   "cell_type": "markdown",
   "metadata": {},
   "source": [
    "# everything is an object"
   ]
  },
  {
   "cell_type": "code",
   "execution_count": 11,
   "metadata": {},
   "outputs": [
    {
     "name": "stdout",
     "output_type": "stream",
     "text": [
      "Human is eating Biryani\n"
     ]
    }
   ],
   "source": [
    "class Human():\n",
    "    def eating(self, food : str)->None:\n",
    "        print(f\"Human is eating {food}\")\n",
    "\n",
    "    \n",
    "obj1 : Human = Human()\n",
    "obj1.eating(\"Biryani\")"
   ]
  },
  {
   "cell_type": "code",
   "execution_count": 12,
   "metadata": {},
   "outputs": [
    {
     "name": "stdout",
     "output_type": "stream",
     "text": [
      "Human is eating Biryani\n"
     ]
    }
   ],
   "source": [
    "class Human1(object): # in python everything inherit from object\n",
    "    def eating(self, food : str)->None:\n",
    "        print(f\"Human is eating {food}\")\n",
    "\n",
    "obj2 : Human1 = Human1()\n",
    "obj2.eating(\"Biryani\")"
   ]
  },
  {
   "cell_type": "markdown",
   "metadata": {},
   "source": [
    "# Callable"
   ]
  }
 ],
 "metadata": {
  "kernelspec": {
   "display_name": "python12",
   "language": "python",
   "name": "python3"
  },
  "language_info": {
   "codemirror_mode": {
    "name": "ipython",
    "version": 3
   },
   "file_extension": ".py",
   "mimetype": "text/x-python",
   "name": "python",
   "nbconvert_exporter": "python",
   "pygments_lexer": "ipython3",
   "version": "3.12.0"
  }
 },
 "nbformat": 4,
 "nbformat_minor": 2
}
